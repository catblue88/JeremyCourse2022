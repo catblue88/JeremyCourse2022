{
 "cells": [
  {
   "cell_type": "markdown",
   "id": "a7536a65-c782-46fe-8527-748db6487063",
   "metadata": {},
   "source": [
    "#### So the next Session.."
   ]
  },
  {
   "cell_type": "code",
   "execution_count": 4,
   "id": "90363d2e-b3d9-47c4-b63e-302c9c275378",
   "metadata": {},
   "outputs": [],
   "source": [
    "from numpy import *"
   ]
  },
  {
   "cell_type": "code",
   "execution_count": 5,
   "id": "3b1e70d4-22f6-4177-b2b2-db0aa4892e4f",
   "metadata": {},
   "outputs": [
    {
     "data": {
      "text/plain": [
       "-0.5365729180004349"
      ]
     },
     "execution_count": 5,
     "metadata": {},
     "output_type": "execute_result"
    }
   ],
   "source": [
    "sin(abs(12))"
   ]
  },
  {
   "cell_type": "code",
   "execution_count": null,
   "id": "fe4ef96f-6fcc-48de-8641-c9f3b5ac4ca7",
   "metadata": {},
   "outputs": [],
   "source": []
  }
 ],
 "metadata": {
  "kernelspec": {
   "display_name": "Python 3 (ipykernel)",
   "language": "python",
   "name": "python3"
  },
  "language_info": {
   "codemirror_mode": {
    "name": "ipython",
    "version": 3
   },
   "file_extension": ".py",
   "mimetype": "text/x-python",
   "name": "python",
   "nbconvert_exporter": "python",
   "pygments_lexer": "ipython3",
   "version": "3.9.13"
  }
 },
 "nbformat": 4,
 "nbformat_minor": 5
}
